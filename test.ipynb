{
 "cells": [
  {
   "cell_type": "code",
   "execution_count": 2,
   "metadata": {},
   "outputs": [],
   "source": [
    "from models_two import SimpleModel\n"
   ]
  },
  {
   "cell_type": "code",
   "execution_count": 5,
   "metadata": {},
   "outputs": [
    {
     "output_type": "stream",
     "name": "stdout",
     "text": [
      "{'title': 'Example Form', 'description': 'This is the description of the main model', 'type': 'object', 'properties': {'new_radio': {'title': 'new bool', 'extra': {'ui_widget': {'ui:widget': 'radio'}}, 'type': 'boolean'}, 'new_checkbox': {'title': 'new bool', 'extra': {'ui_widget': {'ui:widget': 'checkbox'}}, 'type': 'boolean'}, 'new_select': {'title': 'new bool', 'extra': {'ui_widget': {'ui:widget': 'select'}}, 'type': 'boolean'}, 'this_true': {'title': 'This True', 'type': 'boolean'}, 'bunch_of_text': {'title': 'Big Text Box', 'description': 'Fill in the text area', 'maxLength': 2000, 'minLength': 10, 'type': 'string'}, 'example': {'title': 'Example', 'type': 'string'}, 'snap': {'title': 'The Snap', 'description': 'this is the value of snap', 'default': 42, 'exclusiveMinimum': 10, 'exclusiveMaximum': 100, 'ui_widget': {'ui:widget': 'range'}, 'type': 'integer'}, 'currency': {'$ref': '#/definitions/CurrencyType'}, 'email_address': {'title': 'Email Address', 'type': 'string'}, 'contact': {'title': 'Contact', 'type': 'array', 'items': {'$ref': '#/definitions/NameModel'}}}, 'required': ['new_radio', 'new_checkbox', 'new_select', 'this_true', 'bunch_of_text', 'example', 'currency', 'email_address', 'contact'], 'uiSchema': {'example': {'ui:widget': 'date-time'}, 'this_true': {'ui:widget': 'radio'}, 'bunch_of_text': {'ui:widget': 'textarea'}, 'snap': {'ui:widget': 'range'}, 'gender': {'ui:widget': 'radio'}, 'email_address': {'ui:widget': 'email'}, 'test': {'ui:widget': 'radio'}}, 'definitions': {'CurrencyType': {'title': 'CurrencyType', 'description': 'An enumeration.', 'enum': ['Kuwaiti Dinar', 'Bahraini Dinar', 'Omani Rial', 'Jordanian Dinar', 'British Pound Sterling', 'Cayman Islands Dollar', 'European Euro', 'Swiss Franc', 'US Dollar', 'Canadian Dollar', 'Australian Dollar', 'Singapore Dollar'], 'type': 'string'}, 'NameModel': {'title': 'NameModel', 'type': 'object', 'properties': {'first_name': {'title': 'given name', 'description': 'Please enter your first name', 'maxLength': 50, 'minLength': 1, 'type': 'string'}, 'last_name': {'title': 'surname', 'description': 'Please enter your last name', 'maxLength': 50, 'minLength': 1, 'type': 'string'}, 'phone_number': {'title': 'Phone Number', 'description': '123-456-7890', 'pattern': '(\\\\d{3}) \\\\D* (\\\\d{3}) \\\\D* (\\\\d{4}) \\\\D* (\\\\d*)', 'type': 'string'}}, 'required': ['first_name', 'last_name']}}}\n"
     ]
    }
   ],
   "source": [
    "x = SimpleModel.schema()\n",
    "print(x)"
   ]
  },
  {
   "cell_type": "code",
   "execution_count": null,
   "metadata": {},
   "outputs": [],
   "source": []
  }
 ],
 "metadata": {
  "kernelspec": {
   "name": "python385jvsc74a57bd0b8622d57a82c2518965018f11a72a290ebfc989c0a4699de6245ab1cc6dbfa40",
   "display_name": "Python 3.8.5 64-bit ('_venv')"
  }
 },
 "nbformat": 4,
 "nbformat_minor": 5
}