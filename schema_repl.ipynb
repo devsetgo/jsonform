{
 "metadata": {
  "language_info": {
   "codemirror_mode": {
    "name": "ipython",
    "version": 3
   },
   "file_extension": ".py",
   "mimetype": "text/x-python",
   "name": "python",
   "nbconvert_exporter": "python",
   "pygments_lexer": "ipython3",
   "version": "3.8.5"
  },
  "orig_nbformat": 2,
  "kernelspec": {
   "name": "python385jvsc74a57bd0b8622d57a82c2518965018f11a72a290ebfc989c0a4699de6245ab1cc6dbfa40",
   "display_name": "Python 3.8.5 64-bit ('_venv')"
  }
 },
 "nbformat": 4,
 "nbformat_minor": 2,
 "cells": [
  {
   "cell_type": "code",
   "execution_count": 7,
   "metadata": {},
   "outputs": [
    {
     "output_type": "stream",
     "name": "stdout",
     "text": [
      "CHANGELOG.md\t _venv\t\tiso.py\t       pydantic_forms\t  setup.py\nCONTRIBUTING.md  app.py\t\tjson_form      requirements.txt   t.py\nLICENSE\t\t docs\t\tmkdocs.yml     schema_repl.ipynb  test.ipynb\nREADME.md\t examples\tmodel.py       scripts\t\t  tests\n__pycache__\t flake8_report\tmodels_two.py  setup.cfg\n"
     ]
    }
   ],
   "source": [
    "!dir"
   ]
  },
  {
   "cell_type": "code",
   "execution_count": null,
   "metadata": {},
   "outputs": [],
   "source": []
  }
 ]
}