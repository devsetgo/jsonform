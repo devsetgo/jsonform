{
 "cells": [
  {
   "cell_type": "code",
   "execution_count": 58,
   "id": "front-entertainment",
   "metadata": {},
   "outputs": [
    {
     "name": "stdout",
     "output_type": "stream",
     "text": [
      "{\n",
      "  \"title\": \"The Base of the Form\",\n",
      "  \"description\": \"Your description\",\n",
      "  \"type\": \"object\",\n",
      "  \"properties\": {\n",
      "    \"first_name\": {\n",
      "      \"title\": \"First Name\",\n",
      "      \"type\": \"string\"\n",
      "    },\n",
      "    \"last_name\": {\n",
      "      \"title\": \"Last Name\",\n",
      "      \"type\": \"string\"\n",
      "    },\n",
      "    \"your_password\": {\n",
      "      \"title\": \"password\",\n",
      "      \"ui_element\": {\n",
      "        \"ui:widget\": \"password\"\n",
      "      },\n",
      "      \"ui_options\": {\n",
      "        \"ui:options\": {\n",
      "          \"accept\": \".pdf\"\n",
      "        }\n",
      "      },\n",
      "      \"type\": \"string\"\n",
      "    },\n",
      "    \"favorite\": {\n",
      "      \"title\": \"Favorite\",\n",
      "      \"ui_element\": {\n",
      "        \"ui:widget\": \"textarea\"\n",
      "      },\n",
      "      \"type\": \"string\"\n",
      "    },\n",
      "    \"enum_example\": {\n",
      "      \"$ref\": \"#/definitions/EnumExample\"\n",
      "    }\n",
      "  },\n",
      "  \"required\": [\n",
      "    \"first_name\",\n",
      "    \"last_name\",\n",
      "    \"your_password\",\n",
      "    \"favorite\"\n",
      "  ],\n",
      "  \"definitions\": {\n",
      "    \"EnumExample\": {\n",
      "      \"title\": \"EnumExample\",\n",
      "      \"description\": \"An enumeration.\",\n",
      "      \"enum\": [\n",
      "        \"First\",\n",
      "        \"Second\"\n",
      "      ],\n",
      "      \"type\": \"string\"\n",
      "    }\n",
      "  }\n",
      "}\n"
     ]
    }
   ],
   "source": [
    "from enum import Enum\n",
    "import json\n",
    "from pydantic import BaseModel, Field,PrivateAttr\n",
    "from pydantic.schema import schema, field_schema\n",
    "from pydantic.utils import generate_model_signature\n",
    "from json_form.ui_elements import BoolTypes, HiddenTypes, StringTypes, NumberTypes\n",
    "\n",
    "\n",
    "class EnumExample(str,Enum):\n",
    "    first=\"First\"\n",
    "    second=\"Second\"\n",
    "\n",
    "class SimpleModel(BaseModel):\n",
    "    \"\"\"\n",
    "    Your description\n",
    "    \"\"\"\n",
    "#     fruit:Fruit\n",
    "    first_name:str\n",
    "    last_name:str\n",
    "    your_password:str=Field(...,title=\"password\",ui_element=StringTypes.password,ui_options={\"ui:options\": { 'accept': \".pdf\" }})\n",
    "\n",
    "    class Config:\n",
    "        title = \"The Base of the Form\"\n",
    "\n",
    "class Fruit(SimpleModel):\n",
    "    favorite:str=Field(...,ui_element=StringTypes.text_area)\n",
    "    enum_example:EnumExample=None\n",
    "        \n",
    "print(Fruit.schema_json(indent=2))\n"
   ]
  },
  {
   "cell_type": "code",
   "execution_count": 59,
   "id": "blank-beijing",
   "metadata": {},
   "outputs": [
    {
     "name": "stdout",
     "output_type": "stream",
     "text": [
      "<class 'dict'>\n"
     ]
    },
    {
     "data": {
      "text/plain": [
       "{'title': 'The Base of the Form',\n",
       " 'description': 'Your description',\n",
       " 'type': 'object',\n",
       " 'properties': {'first_name': {'title': 'First Name', 'type': 'string'},\n",
       "  'last_name': {'title': 'Last Name', 'type': 'string'},\n",
       "  'your_password': {'title': 'password',\n",
       "   'ui_element': {'ui:widget': 'password'},\n",
       "   'ui_options': {'ui:options': {'accept': '.pdf'}},\n",
       "   'type': 'string'}},\n",
       " 'required': ['first_name', 'last_name', 'your_password']}"
      ]
     },
     "execution_count": 59,
     "metadata": {},
     "output_type": "execute_result"
    }
   ],
   "source": [
    "the_schema=SimpleModel.schema()\n",
    "print(type(the_schema))\n",
    "the_schema"
   ]
  },
  {
   "cell_type": "code",
   "execution_count": 60,
   "id": "animated-ability",
   "metadata": {},
   "outputs": [
    {
     "data": {
      "text/plain": [
       "['Config',\n",
       " '__abstractmethods__',\n",
       " '__annotations__',\n",
       " '__class__',\n",
       " '__class_vars__',\n",
       " '__config__',\n",
       " '__custom_root_type__',\n",
       " '__delattr__',\n",
       " '__dict__',\n",
       " '__dir__',\n",
       " '__doc__',\n",
       " '__eq__',\n",
       " '__fields__',\n",
       " '__fields_set__',\n",
       " '__format__',\n",
       " '__ge__',\n",
       " '__get_validators__',\n",
       " '__getattribute__',\n",
       " '__getstate__',\n",
       " '__gt__',\n",
       " '__hash__',\n",
       " '__init__',\n",
       " '__init_subclass__',\n",
       " '__iter__',\n",
       " '__json_encoder__',\n",
       " '__le__',\n",
       " '__lt__',\n",
       " '__module__',\n",
       " '__ne__',\n",
       " '__new__',\n",
       " '__post_root_validators__',\n",
       " '__pre_root_validators__',\n",
       " '__pretty__',\n",
       " '__private_attributes__',\n",
       " '__reduce__',\n",
       " '__reduce_ex__',\n",
       " '__repr__',\n",
       " '__repr_args__',\n",
       " '__repr_name__',\n",
       " '__repr_str__',\n",
       " '__schema_cache__',\n",
       " '__setattr__',\n",
       " '__setstate__',\n",
       " '__signature__',\n",
       " '__sizeof__',\n",
       " '__slots__',\n",
       " '__str__',\n",
       " '__subclasshook__',\n",
       " '__validators__',\n",
       " '_abc_impl',\n",
       " '_calculate_keys',\n",
       " '_decompose_class',\n",
       " '_enforce_dict_if_root',\n",
       " '_get_value',\n",
       " '_init_private_attributes',\n",
       " '_iter',\n",
       " 'construct',\n",
       " 'copy',\n",
       " 'dict',\n",
       " 'from_orm',\n",
       " 'json',\n",
       " 'parse_file',\n",
       " 'parse_obj',\n",
       " 'parse_raw',\n",
       " 'schema',\n",
       " 'schema_json',\n",
       " 'update_forward_refs',\n",
       " 'validate']"
      ]
     },
     "execution_count": 60,
     "metadata": {},
     "output_type": "execute_result"
    }
   ],
   "source": [
    "dir(SimpleModel)"
   ]
  },
  {
   "cell_type": "code",
   "execution_count": 61,
   "id": "wrapped-algorithm",
   "metadata": {},
   "outputs": [
    {
     "data": {
      "text/plain": [
       "ModelField(name='your_password', type=str, required=True)"
      ]
     },
     "execution_count": 61,
     "metadata": {},
     "output_type": "execute_result"
    }
   ],
   "source": [
    "SimpleModel.__fields__['your_password']"
   ]
  },
  {
   "cell_type": "code",
   "execution_count": 62,
   "id": "worth-latino",
   "metadata": {},
   "outputs": [
    {
     "ename": "SyntaxError",
     "evalue": "unexpected EOF while parsing (<ipython-input-62-7cd0302eaf34>, line 23)",
     "output_type": "error",
     "traceback": [
      "\u001b[0;36m  File \u001b[0;32m\"<ipython-input-62-7cd0302eaf34>\"\u001b[0;36m, line \u001b[0;32m23\u001b[0m\n\u001b[0;31m    \"password\":{'ui_element': {'ui:widget': 'password'}},}\u001b[0m\n\u001b[0m                                                          ^\u001b[0m\n\u001b[0;31mSyntaxError\u001b[0m\u001b[0;31m:\u001b[0m unexpected EOF while parsing\n"
     ]
    }
   ],
   "source": [
    "{'title': 'Francis',\n",
    " 'description': 'Your description',\n",
    " 'type': 'object',\n",
    " 'properties': {'first_name': {'title': 'First Name', 'type': 'string'},\n",
    "  'last_name': {'title': 'Last Name', 'type': 'string'},\n",
    "  'your_password': {'title': 'password',\n",
    "   'ui_element': {'ui:widget': 'password'},\n",
    "   'type': 'string'}},\n",
    " 'required': ['first_name', 'last_name', 'your_password']}\n",
    "\n",
    "\n",
    "schema={{'title': 'Francis',\n",
    " 'description': 'Your description',\n",
    " 'type': 'object',\n",
    " 'properties': {'first_name': {'title': 'First Name', 'type': 'string'},\n",
    "  'last_name': {'title': 'Last Name', 'type': 'string'},\n",
    "  'your_password': {'title': 'password',\n",
    "   'type': 'string'}},\n",
    " 'required': ['first_name', 'last_name', 'your_password']}}\n",
    "\n",
    "\n",
    "uiSchema={{\"fruit\":{'favorite': {'ui:widget': 'file',\"ui:options\": { 'accept': \".pdf\" }}},\n",
    "    \"your_password\":{'ui_element': {'ui:widget': 'password'}},}"
   ]
  }
 ],
 "metadata": {
  "kernelspec": {
   "display_name": "Python 3",
   "language": "python",
   "name": "python3"
  },
  "language_info": {
   "codemirror_mode": {
    "name": "ipython",
    "version": 3
   },
   "file_extension": ".py",
   "mimetype": "text/x-python",
   "name": "python",
   "nbconvert_exporter": "python",
   "pygments_lexer": "ipython3",
   "version": "3.8.5"
  }
 },
 "nbformat": 4,
 "nbformat_minor": 5
}
